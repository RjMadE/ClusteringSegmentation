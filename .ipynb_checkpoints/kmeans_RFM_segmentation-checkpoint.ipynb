{
 "cells": [
  {
   "cell_type": "code",
   "execution_count": 1,
   "id": "0808cbd0",
   "metadata": {},
   "outputs": [],
   "source": [
    "import pandas as pd\n",
    "from datetime import datetime\n",
    "from sklearn.cluster import KMeans\n",
    "import matplotlib.pyplot as plt\n",
    "\n",
    "import seaborn as sns\n",
    "\n",
    "import os\n",
    "os.environ[\"OMP_NUM_THREADS\"] = \"1\"\n",
    "\n",
    "\n",
    "\n",
    "from sklearn.pipeline import Pipeline\n",
    "from sklearn.preprocessing import StandardScaler\n",
    "from sklearn.compose import ColumnTransformer\n",
    "\n",
    "from sklearn.model_selection import train_test_split\n",
    "\n",
    "from sklearn.metrics import silhouette_score, davies_bouldin_score, calinski_harabasz_score"
   ]
  },
  {
   "cell_type": "code",
   "execution_count": 2,
   "id": "92773451",
   "metadata": {},
   "outputs": [],
   "source": [
    "df = pd.read_csv(r'C:\\Users\\whiter04\\OneDrive - Johnson Matthey\\00. cspark\\Clustering\\Data\\MCRS_sales.csv', parse_dates=['Date of Despatch'])\n",
    "df=df.query(\"Industry == 'ME'\")\n",
    "df=df.query(\"`Sales Value` > 20000\")\n"
   ]
  },
  {
   "cell_type": "code",
   "execution_count": 3,
   "id": "0ffd027d",
   "metadata": {
    "scrolled": true
   },
   "outputs": [
    {
     "name": "stdout",
     "output_type": "stream",
     "text": [
      "<class 'pandas.core.frame.DataFrame'>\n",
      "Int64Index: 1180 entries, 65 to 28045\n",
      "Data columns (total 4 columns):\n",
      " #   Column            Non-Null Count  Dtype         \n",
      "---  ------            --------------  -----         \n",
      " 0   Date of Despatch  1180 non-null   datetime64[ns]\n",
      " 1   Industry          1180 non-null   object        \n",
      " 2   Customer ID       1180 non-null   object        \n",
      " 3   Sales Value       1180 non-null   float64       \n",
      "dtypes: datetime64[ns](1), float64(1), object(2)\n",
      "memory usage: 46.1+ KB\n"
     ]
    }
   ],
   "source": [
    "df.info()"
   ]
  },
  {
   "cell_type": "code",
   "execution_count": 31,
   "id": "c0771e1c",
   "metadata": {},
   "outputs": [
    {
     "data": {
      "text/html": [
       "<div>\n",
       "<style scoped>\n",
       "    .dataframe tbody tr th:only-of-type {\n",
       "        vertical-align: middle;\n",
       "    }\n",
       "\n",
       "    .dataframe tbody tr th {\n",
       "        vertical-align: top;\n",
       "    }\n",
       "\n",
       "    .dataframe thead th {\n",
       "        text-align: right;\n",
       "    }\n",
       "</style>\n",
       "<table border=\"1\" class=\"dataframe\">\n",
       "  <thead>\n",
       "    <tr style=\"text-align: right;\">\n",
       "      <th></th>\n",
       "      <th>Date of Despatch</th>\n",
       "      <th>Industry</th>\n",
       "      <th>Customer ID</th>\n",
       "      <th>Sales Value</th>\n",
       "    </tr>\n",
       "  </thead>\n",
       "  <tbody>\n",
       "    <tr>\n",
       "      <th>65</th>\n",
       "      <td>2007-01-04</td>\n",
       "      <td>ME</td>\n",
       "      <td>Shanghai Coking &amp; Chemical</td>\n",
       "      <td>522265.0</td>\n",
       "    </tr>\n",
       "    <tr>\n",
       "      <th>66</th>\n",
       "      <td>2007-01-04</td>\n",
       "      <td>ME</td>\n",
       "      <td>Sinopec Sichuan Vinylon Works</td>\n",
       "      <td>757202.0</td>\n",
       "    </tr>\n",
       "    <tr>\n",
       "      <th>67</th>\n",
       "      <td>2007-01-04</td>\n",
       "      <td>ME</td>\n",
       "      <td>Atlas Methanol Company Unlimited</td>\n",
       "      <td>102629.0</td>\n",
       "    </tr>\n",
       "    <tr>\n",
       "      <th>69</th>\n",
       "      <td>2007-01-04</td>\n",
       "      <td>ME</td>\n",
       "      <td>Supermetanol C.A.</td>\n",
       "      <td>284064.0</td>\n",
       "    </tr>\n",
       "    <tr>\n",
       "      <th>97</th>\n",
       "      <td>2007-01-04</td>\n",
       "      <td>ME</td>\n",
       "      <td>Supermetanol C.A.</td>\n",
       "      <td>25690.0</td>\n",
       "    </tr>\n",
       "  </tbody>\n",
       "</table>\n",
       "</div>"
      ],
      "text/plain": [
       "   Date of Despatch Industry                       Customer ID  Sales Value\n",
       "65       2007-01-04       ME        Shanghai Coking & Chemical     522265.0\n",
       "66       2007-01-04       ME     Sinopec Sichuan Vinylon Works     757202.0\n",
       "67       2007-01-04       ME  Atlas Methanol Company Unlimited     102629.0\n",
       "69       2007-01-04       ME                 Supermetanol C.A.     284064.0\n",
       "97       2007-01-04       ME                 Supermetanol C.A.      25690.0"
      ]
     },
     "execution_count": 31,
     "metadata": {},
     "output_type": "execute_result"
    }
   ],
   "source": [
    "df.head()"
   ]
  },
  {
   "cell_type": "code",
   "execution_count": 32,
   "id": "445c5b35",
   "metadata": {},
   "outputs": [
    {
     "data": {
      "text/plain": [
       "1180"
      ]
     },
     "execution_count": 32,
     "metadata": {},
     "output_type": "execute_result"
    }
   ],
   "source": [
    "len(df)"
   ]
  },
  {
   "cell_type": "code",
   "execution_count": 85,
   "id": "6f2d6319",
   "metadata": {},
   "outputs": [],
   "source": [
    "df = pd.read_csv('MCRS_sales.csv', parse_dates=['Date of Despatch'])\n",
    "df=df.query(\"Industry == 'ME'\")\n",
    "df=df.query(\"`Sales Value` > 20000\")\n",
    "\n",
    "today = datetime.today()\n",
    "df['Recency'] = (today - df['Date of Despatch']).dt.days\n",
    "df_frequency = df.groupby('Customer ID').size().reset_index(name='Frequency')\n",
    "df_recency = df.groupby('Customer ID')['Recency'].min().reset_index(name='Recency')\n",
    "df_monetary = df.groupby('Customer ID')['Sales Value'].sum().reset_index(name='Monetary')\n",
    "df_rfm = pd.merge(pd.merge(df_frequency, df_recency, on='Customer ID'), df_monetary, on='Customer ID')\n",
    "\n",
    "\n",
    "\n",
    "\n",
    "num_features = ['Frequency', 'Recency', 'Monetary']\n",
    "\n",
    "\n",
    "\n",
    "df_rfm.head()\n",
    "\n",
    "\n",
    "pipeline = Pipeline([\n",
    "    ('scaler', StandardScaler())\n",
    "])\n",
    "\n",
    "\n",
    "transformer = ColumnTransformer(\n",
    "   transformers = [\n",
    "       ('num', pipeline, num_features)\n",
    "], remainder='passthrough')\n",
    "\n",
    "\n",
    "\n",
    "df_rfm_trans = transformer.fit_transform(df_rfm)\n",
    "\n",
    "df_rfm_trans = pd.DataFrame(df_rfm_trans, columns=transformer.get_feature_names_out() )\n",
    "\n",
    "df_rfm_trans\n",
    "\n",
    "\n",
    "X = df_rfm_trans[['num__Frequency', 'num__Recency', 'num__Monetary']]\n",
    "\n"
   ]
  },
  {
   "cell_type": "code",
   "execution_count": null,
   "id": "2945566b",
   "metadata": {},
   "outputs": [],
   "source": []
  },
  {
   "cell_type": "code",
   "execution_count": 88,
   "id": "175e5746",
   "metadata": {},
   "outputs": [
    {
     "name": "stderr",
     "output_type": "stream",
     "text": [
      "C:\\Users\\whiter04\\Anaconda3\\lib\\site-packages\\sklearn\\cluster\\_kmeans.py:1440: UserWarning: KMeans is known to have a memory leak on Windows with MKL, when there are less chunks than available threads. You can avoid it by setting the environment variable OMP_NUM_THREADS=1.\n",
      "  warnings.warn(\n",
      "C:\\Users\\whiter04\\Anaconda3\\lib\\site-packages\\sklearn\\cluster\\_kmeans.py:1440: UserWarning: KMeans is known to have a memory leak on Windows with MKL, when there are less chunks than available threads. You can avoid it by setting the environment variable OMP_NUM_THREADS=1.\n",
      "  warnings.warn(\n",
      "C:\\Users\\whiter04\\Anaconda3\\lib\\site-packages\\sklearn\\cluster\\_kmeans.py:1440: UserWarning: KMeans is known to have a memory leak on Windows with MKL, when there are less chunks than available threads. You can avoid it by setting the environment variable OMP_NUM_THREADS=1.\n",
      "  warnings.warn(\n",
      "C:\\Users\\whiter04\\Anaconda3\\lib\\site-packages\\sklearn\\cluster\\_kmeans.py:1440: UserWarning: KMeans is known to have a memory leak on Windows with MKL, when there are less chunks than available threads. You can avoid it by setting the environment variable OMP_NUM_THREADS=1.\n",
      "  warnings.warn(\n",
      "C:\\Users\\whiter04\\Anaconda3\\lib\\site-packages\\sklearn\\cluster\\_kmeans.py:1440: UserWarning: KMeans is known to have a memory leak on Windows with MKL, when there are less chunks than available threads. You can avoid it by setting the environment variable OMP_NUM_THREADS=1.\n",
      "  warnings.warn(\n",
      "C:\\Users\\whiter04\\Anaconda3\\lib\\site-packages\\sklearn\\cluster\\_kmeans.py:1440: UserWarning: KMeans is known to have a memory leak on Windows with MKL, when there are less chunks than available threads. You can avoid it by setting the environment variable OMP_NUM_THREADS=1.\n",
      "  warnings.warn(\n",
      "C:\\Users\\whiter04\\Anaconda3\\lib\\site-packages\\sklearn\\cluster\\_kmeans.py:1440: UserWarning: KMeans is known to have a memory leak on Windows with MKL, when there are less chunks than available threads. You can avoid it by setting the environment variable OMP_NUM_THREADS=1.\n",
      "  warnings.warn(\n",
      "C:\\Users\\whiter04\\Anaconda3\\lib\\site-packages\\sklearn\\cluster\\_kmeans.py:1440: UserWarning: KMeans is known to have a memory leak on Windows with MKL, when there are less chunks than available threads. You can avoid it by setting the environment variable OMP_NUM_THREADS=1.\n",
      "  warnings.warn(\n",
      "C:\\Users\\whiter04\\Anaconda3\\lib\\site-packages\\sklearn\\cluster\\_kmeans.py:1440: UserWarning: KMeans is known to have a memory leak on Windows with MKL, when there are less chunks than available threads. You can avoid it by setting the environment variable OMP_NUM_THREADS=1.\n",
      "  warnings.warn(\n",
      "C:\\Users\\whiter04\\Anaconda3\\lib\\site-packages\\sklearn\\cluster\\_kmeans.py:1440: UserWarning: KMeans is known to have a memory leak on Windows with MKL, when there are less chunks than available threads. You can avoid it by setting the environment variable OMP_NUM_THREADS=1.\n",
      "  warnings.warn(\n"
     ]
    },
    {
     "data": {
      "image/png": "[encoded data removed]",
      "text/plain": [
       "<Figure size 432x288 with 1 Axes>"
      ]
     },
     "metadata": {},
     "output_type": "display_data"
    }
   ],
   "source": [
    "\n",
    "\n",
    "\n",
    "sse = [] #SUM OF SQUARED ERROR\n",
    "for k in range(1,11):\n",
    "    km = KMeans(n_clusters=k, random_state=2, n_init=10)\n",
    "    km.fit(X)\n",
    "    sse.append(km.inertia_)\n",
    "\n",
    "\n",
    "\n",
    "\n",
    "sns.set_style(\"whitegrid\")\n",
    "g=sns.lineplot(x=range(1,11), y=sse)\n",
    "\n",
    "g.set(xlabel =\"Number of cluster (k)\", \n",
    "      ylabel = \"Sum Squared Error\", \n",
    "      title ='Elbow Method')\n",
    "\n",
    "plt.show()"
   ]
  },
  {
   "cell_type": "code",
   "execution_count": 103,
   "id": "0dfd7888",
   "metadata": {},
   "outputs": [
    {
     "name": "stderr",
     "output_type": "stream",
     "text": [
      "C:\\Users\\whiter04\\Anaconda3\\lib\\site-packages\\sklearn\\cluster\\_kmeans.py:1416: FutureWarning: The default value of `n_init` will change from 10 to 'auto' in 1.4. Set the value of `n_init` explicitly to suppress the warning\n",
      "  super()._check_params_vs_input(X, default_n_init=10)\n",
      "C:\\Users\\whiter04\\Anaconda3\\lib\\site-packages\\sklearn\\cluster\\_kmeans.py:1440: UserWarning: KMeans is known to have a memory leak on Windows with MKL, when there are less chunks than available threads. You can avoid it by setting the environment variable OMP_NUM_THREADS=1.\n",
      "  warnings.warn(\n"
     ]
    },
    {
     "data": {
      "image/png": "[encoded data removed]",
      "text/plain": [
       "<Figure size 720x432 with 1 Axes>"
      ]
     },
     "metadata": {},
     "output_type": "display_data"
    },
    {
     "data": {
      "image/png": "[encoded data removed]",
      "text/plain": [
       "<Figure size 720x432 with 1 Axes>"
      ]
     },
     "metadata": {},
     "output_type": "display_data"
    },
    {
     "data": {
      "image/png": "[encoded data removed]",
      "text/plain": [
       "<Figure size 720x432 with 1 Axes>"
      ]
     },
     "metadata": {},
     "output_type": "display_data"
    },
    {
     "name": "stdout",
     "output_type": "stream",
     "text": [
      "Inertia: 109.13336165256408\n",
      "Silhouette Score: 0.6362931547767164\n",
      "Davies-Bouldin Index: 0.6261406578039409\n",
      "Calinski-Harabasz Index: 309.7746844740748\n"
     ]
    }
   ],
   "source": [
    "\n",
    "\n",
    "\n",
    "\n",
    "kmeans = KMeans(n_clusters=4, random_state=0).fit(X)\n",
    "X['Segment'] = kmeans.labels_\n",
    "kmeans\n",
    "\n",
    "\n",
    "\n",
    "fig, ax = plt.subplots(figsize=(10, 6))\n",
    "colors = ['red', 'green', 'blue', \"yellow\"]\n",
    "for i, segment in X.groupby('Segment'):\n",
    "    ax.scatter(segment['num__Frequency'], segment['num__Monetary'], color=colors[i], label=f'Segment {i}')\n",
    "ax.set_xlabel('num__Frequency')\n",
    "ax.set_ylabel('num__Monetary')\n",
    "ax.legend()\n",
    "plt.show()\n",
    "\n",
    "\n",
    "\n",
    "fig, ax = plt.subplots(figsize=(10, 6))\n",
    "colors = ['red', 'green', 'blue', \"yellow\"]\n",
    "for i, segment in X.groupby('Segment'):\n",
    "    ax.scatter(segment['num__Monetary'], segment['num__Recency'], color=colors[i], label=f'Segment {i}')\n",
    "ax.set_xlabel('num__Recency')\n",
    "ax.set_ylabel('num__Monetary')\n",
    "ax.legend()\n",
    "plt.show()\n",
    "\n",
    "\n",
    "\n",
    "fig, ax = plt.subplots(figsize=(10, 6))\n",
    "colors = ['red', 'green', 'blue', \"yellow\"]\n",
    "for i, segment in X.groupby('Segment'):\n",
    "    ax.scatter(segment['num__Recency'], segment['num__Frequency'], color=colors[i], label=f'Segment {i}')\n",
    "ax.set_xlabel('num__Recency')\n",
    "ax.set_ylabel('num__Monetary')\n",
    "ax.legend()\n",
    "plt.show()\n",
    "\n",
    "\n",
    "\n",
    "\n",
    "\n",
    "inertia = kmeans.inertia_\n",
    "print(f'Inertia: {inertia}')\n",
    "\n",
    "\n",
    "# 2. Silhouette Score\n",
    "silhouette_avg = silhouette_score(X, kmeans.labels_)\n",
    "print(f'Silhouette Score: {silhouette_avg}')\n",
    "\n",
    "# 3. Davies-Bouldin Index\n",
    "db_index = davies_bouldin_score(X, kmeans.labels_)\n",
    "print(f'Davies-Bouldin Index: {db_index}')\n",
    "\n",
    "# 4. Calinski-Harabasz Index\n",
    "ch_index = calinski_harabasz_score(X, kmeans.labels_)\n",
    "print(f'Calinski-Harabasz Index: {ch_index}')"
   ]
  },
  {
   "cell_type": "code",
   "execution_count": 125,
   "id": "a1685d7e",
   "metadata": {},
   "outputs": [
    {
     "name": "stdout",
     "output_type": "stream",
     "text": [
      "Inertia: 92.55937291989211\n",
      "\n",
      "\n",
      "Train Set Evaluation:\n",
      "  Silhouette Score: 0.6546014397287018\n",
      "  Davies-Bouldin Index: 0.5522659733103891\n",
      "  Calinski-Harabasz Index: 167.96122459749324\n",
      "\n",
      "\n",
      "Test Set Evaluation:\n",
      "  Silhouette Score: 0.5753532996619145\n",
      "  Davies-Bouldin Index: 0.670350233241467\n",
      "  Calinski-Harabasz Index: 113.19850782252121\n"
     ]
    },
    {
     "name": "stderr",
     "output_type": "stream",
     "text": [
      "C:\\Users\\whiter04\\Anaconda3\\lib\\site-packages\\sklearn\\cluster\\_kmeans.py:1416: FutureWarning: The default value of `n_init` will change from 10 to 'auto' in 1.4. Set the value of `n_init` explicitly to suppress the warning\n",
      "  super()._check_params_vs_input(X, default_n_init=10)\n",
      "C:\\Users\\whiter04\\Anaconda3\\lib\\site-packages\\sklearn\\cluster\\_kmeans.py:1440: UserWarning: KMeans is known to have a memory leak on Windows with MKL, when there are less chunks than available threads. You can avoid it by setting the environment variable OMP_NUM_THREADS=1.\n",
      "  warnings.warn(\n"
     ]
    }
   ],
   "source": [
    "train, test = train_test_split(\n",
    "    X,  test_size=0.50, random_state=42)\n",
    "\n",
    "\n",
    "\n",
    "kmeans = KMeans(n_clusters=3, random_state=0).fit(train)\n",
    "train['Segment'] = kmeans.labels_\n",
    "train_labels = kmeans.labels_\n",
    "kmeans\n",
    "\n",
    "\n",
    "\n",
    "inertia = kmeans.inertia_\n",
    "print(f'Inertia: {inertia}')\n",
    "\n",
    "print('\\n')\n",
    "\n",
    "\n",
    "# 2. Silhouette Score\n",
    "silhouette_avg = silhouette_score(train, train_labels)\n",
    "\n",
    "\n",
    "# 3. Davies-Bouldin Index\n",
    "db_index = davies_bouldin_score(train, train_labels)\n",
    "\n",
    "\n",
    "# 4. Calinski-Harabasz Index\n",
    "ch_index = calinski_harabasz_score(train, train_labels)\n",
    "\n",
    "\n",
    "\n",
    "print(f'Train Set Evaluation:')\n",
    "print(f'  Silhouette Score: {silhouette_avg}')\n",
    "print(f'  Davies-Bouldin Index: {db_index}')\n",
    "print(f'  Calinski-Harabasz Index: {ch_index}')\n",
    "\n",
    "\n",
    "print('\\n')\n",
    "\n",
    "\n",
    "test_labels = kmeans.predict(test)\n",
    "\n",
    "# Evaluate clustering on the training set using internal metrics\n",
    "test_silhouette = silhouette_score(test, test_labels)\n",
    "test_db_index = davies_bouldin_score(test, test_labels)\n",
    "test_ch_index = calinski_harabasz_score(test, test_labels)\n",
    "\n",
    "\n",
    "print(f'Test Set Evaluation:')\n",
    "print(f'  Silhouette Score: {test_silhouette}')\n",
    "print(f'  Davies-Bouldin Index: {test_db_index}')\n",
    "print(f'  Calinski-Harabasz Index: {test_ch_index}')\n"
   ]
  },
  {
   "cell_type": "code",
   "execution_count": null,
   "id": "40c955cd",
   "metadata": {},
   "outputs": [],
   "source": []
  }
 ],
 "metadata": {
  "kernelspec": {
   "display_name": "Python 3",
   "language": "python",
   "name": "python3"
  },
  "language_info": {
   "codemirror_mode": {
    "name": "ipython",
    "version": 3
   },
   "file_extension": ".py",
   "mimetype": "text/x-python",
   "name": "python",
   "nbconvert_exporter": "python",
   "pygments_lexer": "ipython3",
   "version": "3.8.8"
  }
 },
 "nbformat": 4,
 "nbformat_minor": 5
}
